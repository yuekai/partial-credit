{
 "cells": [
  {
   "cell_type": "code",
   "execution_count": 2,
   "id": "9783bb11",
   "metadata": {},
   "outputs": [],
   "source": [
    "from datasets import load_dataset\n",
    "ds = load_dataset(\"RLHFlow/Mistral-PRM-Data\", cache_dir=\"data\")"
   ]
  },
  {
   "cell_type": "markdown",
   "id": "c5a3b684",
   "metadata": {},
   "source": [
    "Process `RLHFlow/Mistral-PRM-Data` dataset to convert multi-turn conversations into multiple single-turn conversations. For example, the conversation:\n",
    "```\n",
    "[ { \"content\": \"Find the product of the roots of the equation $18t^2 + 45t -500 =0$. Step 1: To find the product of the roots of a quadratic equation, I can use the formula $-b/a$, where $a$ and $b$ are the coefficients of $t^2$ and $t$ respectively.\", \"role\": \"user\" }, { \"content\": \"-\", \"role\": \"assistant\" }, { \"content\": \"Step 2: In this case, $a = 18$ and $b = 45$, so the product of the roots is $-45/18$. The answer is: -45/18\", \"role\": \"user\" }, { \"content\": \"-\", \"role\": \"assistant\" } ]\n",
    "```\n",
    "becomes \n",
    "```\n",
    "[ { \"content\": \"Find the product of the roots of the equation $18t^2 + 45t -500 =0$. Step 1: To find the product of the roots of a quadratic equation, I can use the formula $-b/a$, where $a$ and $b$ are the coefficients of $t^2$ and $t$ respectively.\", \"role\": \"user\" }, { \"content\": \"-\", \"role\": \"assistant\" } ]\n",
    "[ { \"content\": \"Find the product of the roots of the equation $18t^2 + 45t -500 =0$. Step 1: To find the product of the roots of a quadratic equation, I can use the formula $-b/a$, where $a$ and $b$ are the coefficients of $t^2$ and $t$ respectively.\\nStep 2: In this case, $a = 18$ and $b = 45$, so the product of the roots is $-45/18$. The answer is: -45/18\", \"role\": \"user\" }, { \"content\": \"-\", \"role\": \"assistant\" } ]\n",
    "```\n",
    "I'm assuming the assistant responses are the so-called hard labels in the [Math-Shepard paper](https://arxiv.org/abs/2312.08935)."
   ]
  },
  {
   "cell_type": "code",
   "execution_count": 3,
   "id": "3754cab0",
   "metadata": {},
   "outputs": [
    {
     "name": "stderr",
     "output_type": "stream",
     "text": [
      "100%|██████████| 273226/273226 [00:09<00:00, 30028.42it/s]\n"
     ]
    }
   ],
   "source": [
    "import json\n",
    "from tqdm import tqdm\n",
    "\n",
    "def process_row(row):\n",
    "  rows = []\n",
    "  trace = \"\"\n",
    "  for msg in row[\"conversations\"]:\n",
    "    if msg[\"role\"] == \"user\":\n",
    "      trace += f\"{msg['content']}\\n\"\n",
    "      continue\n",
    "    elif msg[\"role\"] == \"assistant\":\n",
    "      rows.append({\"messages\": [{\"role\": \"user\", \"content\": trace.rstrip(\"\\n\")}, {\"role\": \"assistant\", \"content\": msg['content']}]})\n",
    "    else:\n",
    "      raise ValueError(f\"Unknown role: {msg['role']}\")\n",
    "  return rows\n",
    "\n",
    "def save_jsonl(data, file_path):\n",
    "  with open(file_path, 'w') as f:\n",
    "    for item in data:\n",
    "      json.dump(item, f)\n",
    "      f.write(f\"\\n\")\n",
    "\n",
    "data = []\n",
    "for row in tqdm(ds[\"train\"]):\n",
    "  data.extend(process_row(row))\n",
    "save_jsonl(data, \"data/mistral_pcm_data.jsonl\")"
   ]
  },
  {
   "cell_type": "code",
   "execution_count": null,
   "id": "863cab84",
   "metadata": {},
   "outputs": [],
   "source": []
  }
 ],
 "metadata": {
  "kernelspec": {
   "display_name": "minitrain",
   "language": "python",
   "name": "python3"
  },
  "language_info": {
   "codemirror_mode": {
    "name": "ipython",
    "version": 3
   },
   "file_extension": ".py",
   "mimetype": "text/x-python",
   "name": "python",
   "nbconvert_exporter": "python",
   "pygments_lexer": "ipython3",
   "version": "3.12.10"
  }
 },
 "nbformat": 4,
 "nbformat_minor": 5
}
